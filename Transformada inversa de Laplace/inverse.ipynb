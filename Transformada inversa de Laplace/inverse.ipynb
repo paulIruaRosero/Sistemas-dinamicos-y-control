{
  "cells": [
    {
      "cell_type": "markdown",
      "metadata": {
        "id": "view-in-github",
        "colab_type": "text"
      },
      "source": [
        "<a href=\"https://colab.research.google.com/github/paulIruaRosero/Sistemas-dinamicos-y-control/blob/main/Transformada%20inversa%20de%20Laplace/inverse.ipynb\" target=\"_parent\"><img src=\"https://colab.research.google.com/assets/colab-badge.svg\" alt=\"Open In Colab\"/></a>"
      ]
    },
    {
      "cell_type": "markdown",
      "metadata": {
        "id": "0sjQJSFfLjvE",
        "nbsphinx": "hidden"
      },
      "source": [
        "# Transformada inversa de Laplace\n",
        "\n",
        "*This Jupyter notebook is part of a [collection of notebooks](../index.ipynb) in the bachelors module Signals and Systems, Communications Engineering, Universität Rostock. Please direct questions and suggestions to [Sascha.Spors@uni-rostock.de](mailto:Sascha.Spors@uni-rostock.de).*"
      ]
    },
    {
      "cell_type": "markdown",
      "metadata": {
        "id": "fNGAID8gLjvK"
      },
      "source": [
        "## Transformada Inversa\n",
        "\n",
        "- La transformada de Laplace también tiene una [transformada inversa](https://en.wikipedia.org/wiki/Inverse_Laplace_transform). La transformada inversa de Laplace convierte una transformada de Laplace compleja $X(s) \\in \\mathbb{C}$ en una señal compleja $x(t) \\in \\mathbb{C}$ con variable independiente real $t \\in \\mathbb{R}$.\n",
        "\n",
        "- Puede demostrarse que la transformada inversa de Laplace $x(t) = \\mathfrak{L}^{-1} \\{ X(s) \\}$ se determina de forma única."
      ]
    },
    {
      "cell_type": "markdown",
      "metadata": {
        "id": "Z4x5oCB5LjvN"
      },
      "source": [
        "### Fórmula Integral\n",
        "\n",
        "Usando los resultados del análisis complejo, la transformada inversa de Laplace viene dada por la siguiente integral de línea compleja:\n",
        "\n",
        "\\begin{equation}\n",
        "x(t) = \\frac{1}{2 \\pi j} \\int_{\\sigma - j \\infty}^{\\sigma + j \\infty} X(s) \\, e^{s t} \\; ds\n",
        "\\end{equation}\n",
        "donde se asume que $X(s) = \\mathfrak{L} \\{ x(t) \\}$  es analítica en su ROC. La notación $\\sigma \\mp j \\infty$ para los límites de integración denota una región arbitraria de integración que descansa en la ROC y para $\\Im \\{s\\} = - \\infty$ a $\\Im \\{s\\} = + \\infty$.\n",
        "\n",
        "La ruta de integración se puede elegir paralela al eje imaginario, pero también son posibles todas las demás rutas en la ROC. Esto resulta del [teorema de integral de Cauchy](https://en.wikipedia.org/wiki/Cauchy's_integral_theorem)."
      ]
    },
    {
      "cell_type": "markdown",
      "metadata": {
        "id": "SLP6ihJSLjvQ"
      },
      "source": [
        "### Transformadas de Laplace racionales\n",
        "\n",
        "El cálculo de la transformada inversa de Laplace mediante la integral puede ser trabajoso.\n",
        "\n",
        "El [teorema del residuo de Cauchy](https://en.wikipedia.org/wiki/Residue_theorem) da una solución práctica para las transformadas de Laplace $X(s) = \\mathfrak{L} \\{ x(t) \\}$ que están dadas como funciones racionales.\n",
        "\n",
        "Establece que el valor de una integral de línea de una función holomórfica sobre un contorno cerrado se da al resumir sus [residuos](https://en.wikipedia.org/wiki/Residue_theorem).\n",
        "\n",
        "El residuo es el valor de la integral de línea para una ruta que encierra una singularidad. En consecuencia, la transformada inversa de Laplace de una transformada de Laplace racional se puede calcular sumando las contribuciones individuales de sus polos."
      ]
    },
    {
      "cell_type": "markdown",
      "metadata": {
        "id": "-jQ2wkx2LjvV"
      },
      "source": [
        "#### Procedimiento básico\n",
        "\n",
        "Una transformada de Laplace  $X(s)$ racional puede ser escrita en términos de polinomios en el numerador y en el denominador:\n",
        "\n",
        "\\begin{equation}\n",
        "X(s) = \\frac{\\sum_{m=0}^{M} \\beta_m s^m}{\\sum_{n=0}^{N} \\alpha_n s^n}\n",
        "\\end{equation}\n",
        "donde $M$, $N$ son el orden de los polinomios del numerador y del denominador y $\\beta_m$, $\\alpha_n$ son sus coeficientes, respectivamente.\n",
        "\n",
        "Se asume que $\\alpha_N \\neq 0$ y que $M \\leq N$. Si $M > N$, $X(s)$  se puede descomponer por [división polinomial](https://en.wikipedia.org/wiki/Polynomial_long_division) dentro de una suma de potencias de $s$ y una función racional cumpliendo que $M \\leq N$.\n",
        "\n",
        "Ahora, la [descomposición en fracciones parciales](https://en.wikipedia.org/wiki/Partial_fraction_decomposition) de $X(s)$ se puede escribir como:\n",
        "\n",
        "\\begin{equation}\n",
        "X(s) = A_0 + \\sum_{\\mu = 1}^{L} \\sum_{\\nu = 1}^{R_\\mu} \\frac{A_{\\mu \\nu}}{(s - s_{\\infty \\mu})^\\nu}\n",
        "\\end{equation}\n",
        "donde $s_{\\infty \\mu}$ es el $\\mu$-th polo único de $X(s)$, $R_\\mu$ su grado y $L$ el número total de polos $\\mu = \\{1, \\dots, L\\}$.\n",
        "\n",
        "Utilizando las transformadas conocidas de Laplace (Ver [tablas de transformadas](https://github.com/amalvarezme/SenalesSistemas/blob/master/4_Transformada_Laplace/Laplace_Table.pdf)), por ejemplo:\n",
        "\n",
        "\\begin{equation}\n",
        "\\mathfrak{L} \\{ t^n e^{-s_0 t} \\epsilon(t) \\} = \\frac{n!}{(s + s_0)^{n+1}} \\qquad \\text{for } \\Re \\{ s \\} > \\Re \\{ - s_0 \\}\n",
        "\\end{equation}\n",
        "\n",
        "y $\\mathfrak{L} \\{ \\delta(t) \\} = 1$, junto con la linealidad de la transformada de Laplace, resulta en una expresión genérica para la transformada inversa $x(t) = \\mathfrak{L}^{-1} \\{ X(s) \\}$\n",
        "\n",
        "\\begin{equation}\n",
        "x(t) = A_0 \\cdot \\delta(t) + \\epsilon(t) \\sum_{\\mu = 1}^{L} e^{s_{\\infty \\mu} t} \\sum_{\\nu = 1}^{R_\\mu} \\frac{A_{\\mu \\nu} \\, t^{\\mu - 1}}{(\\nu -1)!}\n",
        "\\end{equation}\n",
        "\n",
        "Sin embargo, se deben calcular los coeficientes $A_0$ y $A_{\\mu \\nu}$ de la descomposición en fracciones parciales.\n",
        "\n",
        "El coeficiente constante $A_0$ está dado por:\n",
        "\n",
        "\\begin{equation}\n",
        "A_0 = \\lim_{s \\to \\infty} X(s)\n",
        "\\end{equation}\n",
        "\n",
        "Para un polo $s_{\\infty \\mu}$ con grado $R_\\mu = 1$, el coeficiente $A_{\\mu 1}$ es:\n",
        "\n",
        "\\begin{equation}\n",
        "A_{\\mu 1} = \\lim_{s \\to s_{\\infty \\mu}} \\left( X(s) \\cdot (s - s_{\\infty \\mu}) \\right)\n",
        "\\end{equation}\n",
        "\n",
        "Para un polo $s_{\\infty \\mu}$ de grado $R_\\mu > 1$, los coeficientes $A_{\\mu \\nu}$ son:\n",
        "\n",
        "\\begin{equation}\n",
        "A_{\\mu \\nu} = \\frac{1}{(R_\\mu - \\nu)!} \\lim_{s \\to s_{\\infty \\mu}} \\frac{d^{R_\\mu - \\nu}}{d s^{R_\\mu - \\nu}} \\left( X(s) \\cdot (s - s_{\\infty \\mu})^{R_\\mu} \\right)\n",
        "\\end{equation}"
      ]
    },
    {
      "cell_type": "markdown",
      "metadata": {
        "id": "2EnGvFCGLjvX"
      },
      "source": [
        "#### Clasificación de polos\n",
        "\n",
        "- El anterior procedimiento permite calcular la transformada inversa de Laplace $x(t) = \\mathfrak{L}^{-1} \\{ X(s) \\}$ de una transfromada de Laplace racional $X(s)$ de manera mecánica.\n",
        "\n",
        "- Es muy adecuado para una realización algorítmica. Sin embargo, para el cálculo manual puede ser más eficiente clasificar los polos con respecto a su ubicación en el plano $ s $ y sus simetrías.\n",
        "\n",
        "- La clasificación se puede usar para formular una descomposición de fracción parcial modificada que limita la necesidad de una posterior simplificación algebraica de la transformada de Laplace inversa.\n",
        "\n",
        "- Tres clases de polos son comunmente considerados:\n",
        "\n",
        "| Tipo | Diagrama de Polos y Ceros | $X(s)$ | $x(t) = \\mathfrak{L}^{-1} \\{ X(s) \\} \\qquad \\qquad$ |\n",
        "|---|:---:|:---:|:---:|\n",
        "| Un polo complejo | ![Un polo](https://github.com/amalvarezme/SenalesSistemas/blob/master/4_Transformada_Laplace/single_pole.png?raw=1) | $\\frac{n!}{(s + s_0)^{n+1}}$ | $t^n e^{-s_0 t} \\epsilon(t)$ |\n",
        "| Polos imaginarios conjugados| ![Imaginarios conjugados](https://github.com/amalvarezme/SenalesSistemas/blob/master/4_Transformada_Laplace/conjugated_imaginary_poles.png?raw=1) | $\\frac{A s + B}{s^2 + \\omega_0^2}$ | $\\begin{cases} \\sin(\\omega_0 t) \\epsilon(t) \\\\ \\cos(\\omega_0 t) \\epsilon(t) \\end{cases}$ |\n",
        "| Polos complejos conjugados| ![Complejos conjugados](https://github.com/amalvarezme/SenalesSistemas/blob/master/4_Transformada_Laplace/conjugated_complex_poles.png?raw=1) | $\\frac{A s + B}{(s + \\sigma_0)^2 + \\omega_0^2}$ | $\\begin{cases} e^{-\\sigma_0 t} \\sin(\\omega_0 t) \\epsilon(t) \\\\ e^{-\\sigma_0 t} \\cos(\\omega_0 t) \\epsilon(t) \\end{cases}$ |\n",
        "\n",
        "Donde $s_0 \\in \\mathbb{C}$ y $\\omega_0, \\sigma_0 \\in \\mathbb{R}$.\n",
        "\n",
        "- Los coeficientes de expansión $A, B \\in \\mathbb{R}$ se pueden derivar por comparación coeficientes. Si $x(t)$ contiene un seno o un coseno, depende del coeficiente $A$.\n",
        "\n",
        "- Si $A \\neq 0$ luego $x(t)$ contiene un coseno."
      ]
    },
    {
      "cell_type": "markdown",
      "metadata": {
        "id": "K37c2dY8Ljva"
      },
      "source": [
        "#### Transformada inversa para una respuesta al escalón del circuito T con puente\n",
        "\n",
        "Determine la transformada inversa $v_1(t) = \\mathfrak{L}^{-1} \\{ V_1(s) \\}$ de:\n",
        "\n",
        "# vamos a calcular la salida de $V_1(t)$ usando sympy"
      ]
    },
    {
      "cell_type": "code",
      "execution_count": null,
      "metadata": {
        "colab": {
          "base_uri": "https://localhost:8080/",
          "height": 62
        },
        "id": "0UPcCDrFLjvd",
        "outputId": "7fc1c5a4-e431-4dd7-924e-0312861e5d58"
      },
      "outputs": [
        {
          "output_type": "execute_result",
          "data": {
            "text/plain": [
              "                  1000.0             \n",
              "            2.0 + ──────             \n",
              "                    s                \n",
              "─────────────────────────────────────\n",
              "⎛    1000.0⎞                   1000.0\n",
              "⎜1 + ──────⎟⋅(0.001⋅s + 2.0) - ──────\n",
              "⎝      s   ⎠                     s   "
            ],
            "text/latex": "$\\displaystyle \\frac{2.0 + \\frac{1000.0}{s}}{\\left(1 + \\frac{1000.0}{s}\\right) \\left(0.001 s + 2.0\\right) - \\frac{1000.0}{s}}$"
          },
          "metadata": {},
          "execution_count": 78
        }
      ],
      "source": [
        "%matplotlib inline\n",
        "import sympy as sym\n",
        "sym.init_printing()\n",
        "\n",
        "s = sym.symbols('s', complex=True)\n",
        "t = sym.symbols('t', real=True)\n",
        "\n",
        "#vamos a definir los parámetros del circuito T con puente\n",
        "R1 = 1e3\n",
        "R2 = R1\n",
        "C1 = 1e-6\n",
        "C2 = C1\n",
        "\n",
        "#vamos a definir la entrada a un escalón unitario de 10 v al circuito\n",
        "Vi_s = 10/s\n",
        "\n",
        "#definimos la función de transferencia del sistema\n",
        "H1_s = ((1/(C2*R2*s) + 1 + R1/R2)/((1 + R1/R2 + R1*C1*s)*(1/(C2*R2*s) + 1)-R1/(C2*R2*s*R2)))\n",
        "H1_s\n"
      ]
    },
    {
      "cell_type": "markdown",
      "metadata": {
        "id": "WdfiHYoFLjvr"
      },
      "source": [
        "vamos a mostrar la salida $V_1(s)$ en el dominio de Laplace"
      ]
    },
    {
      "cell_type": "code",
      "execution_count": null,
      "metadata": {
        "colab": {
          "base_uri": "https://localhost:8080/",
          "height": 62
        },
        "id": "kCEEASs4Ljvu",
        "outputId": "1eec9ae9-ec06-4268-eecf-73606f09e319"
      },
      "outputs": [
        {
          "output_type": "execute_result",
          "data": {
            "text/plain": [
              "               ⎛      1000.0⎞            \n",
              "            10⋅⎜2.0 + ──────⎟            \n",
              "               ⎝        s   ⎠            \n",
              "─────────────────────────────────────────\n",
              "  ⎛⎛    1000.0⎞                   1000.0⎞\n",
              "s⋅⎜⎜1 + ──────⎟⋅(0.001⋅s + 2.0) - ──────⎟\n",
              "  ⎝⎝      s   ⎠                     s   ⎠"
            ],
            "text/latex": "$\\displaystyle \\frac{10 \\left(2.0 + \\frac{1000.0}{s}\\right)}{s \\left(\\left(1 + \\frac{1000.0}{s}\\right) \\left(0.001 s + 2.0\\right) - \\frac{1000.0}{s}\\right)}$"
          },
          "metadata": {},
          "execution_count": 79
        }
      ],
      "source": [
        "V1_s = H1_s * Vi_s\n",
        "V1_s"
      ]
    },
    {
      "cell_type": "markdown",
      "metadata": {
        "id": "taJmAxsXLjwO"
      },
      "source": [
        "Vamos a calcular la transformada inversa de Laplace de $V_1(s)$ para mirar la respuesta en el tiempo"
      ]
    },
    {
      "cell_type": "code",
      "execution_count": null,
      "metadata": {
        "colab": {
          "base_uri": "https://localhost:8080/",
          "height": 39
        },
        "id": "iEHC_rO4LjwT",
        "outputId": "446d576c-108a-4f7d-a7cb-484e24d3b1ed"
      },
      "outputs": [
        {
          "output_type": "execute_result",
          "data": {
            "text/plain": [
              "   ⎛                   -1500.0⋅t                                 -1500.0⋅t     ↪\n",
              "10⋅⎝0.447213595499958⋅ℯ         ⋅sinh(1118.03398874989⋅t) - 1.0⋅ℯ         ⋅cos ↪\n",
              "\n",
              "↪                      ⎞                 \n",
              "↪ h(1118.03398874989⋅t)⎠⋅θ(t) + 10.0⋅θ(t)"
            ],
            "text/latex": "$\\displaystyle 10 \\left(0.447213595499958 e^{- 1500.0 t} \\sinh{\\left(1118.03398874989 t \\right)} - 1.0 e^{- 1500.0 t} \\cosh{\\left(1118.03398874989 t \\right)}\\right) \\theta\\left(t\\right) + 10.0 \\theta\\left(t\\right)$"
          },
          "metadata": {},
          "execution_count": 80
        }
      ],
      "source": [
        "V_1 = sym.inverse_laplace_transform(V1_s, s, t) #trasformada inversa\n",
        "V_1"
      ]
    },
    {
      "cell_type": "code",
      "source": [
        "sym.plot(V_1, (t, 0, 0.01), grid=True, xlabel='Tiempo (s)', ylabel='V(t)')"
      ],
      "metadata": {
        "colab": {
          "base_uri": "https://localhost:8080/",
          "height": 501
        },
        "id": "_DBOAW0CmB2T",
        "outputId": "595af74e-d4ac-49dd-9f53-f1746a6e9861"
      },
      "execution_count": null,
      "outputs": [
        {
          "output_type": "display_data",
          "data": {
            "text/plain": [
              "<Figure size 640x480 with 1 Axes>"
            ],
            "image/png": "[encoded data removed]"
          },
          "metadata": {}
        },
        {
          "output_type": "execute_result",
          "data": {
            "text/plain": [
              "<sympy.plotting.backends.matplotlibbackend.matplotlib.MatplotlibBackend at 0x7a4ee9595cd0>"
            ]
          },
          "metadata": {},
          "execution_count": 81
        }
      ]
    },
    {
      "cell_type": "markdown",
      "source": [
        "# vamos a calcular la salida $v_2(t)$ usando sympy"
      ],
      "metadata": {
        "id": "uqw6n0dJtRVo"
      }
    },
    {
      "cell_type": "code",
      "source": [
        "#definimos la función de transferencia del sistema\n",
        "H2_s = ((1/(C2*R2*s) + 1 + R1/R2 + R1*C1*s)/((1 + R1/R2 + R1*C1*s)*(1/(C2*R2*s) + 1)-R1/(C2*R2*s*R2)))\n",
        "H2_s"
      ],
      "metadata": {
        "colab": {
          "base_uri": "https://localhost:8080/",
          "height": 62
        },
        "id": "fxo9CLAAmEzN",
        "outputId": "1330d8d0-4630-4345-b6cd-65103f978046"
      },
      "execution_count": null,
      "outputs": [
        {
          "output_type": "execute_result",
          "data": {
            "text/plain": [
              "                       1000.0        \n",
              "       0.001⋅s + 2.0 + ──────        \n",
              "                         s           \n",
              "─────────────────────────────────────\n",
              "⎛    1000.0⎞                   1000.0\n",
              "⎜1 + ──────⎟⋅(0.001⋅s + 2.0) - ──────\n",
              "⎝      s   ⎠                     s   "
            ],
            "text/latex": "$\\displaystyle \\frac{0.001 s + 2.0 + \\frac{1000.0}{s}}{\\left(1 + \\frac{1000.0}{s}\\right) \\left(0.001 s + 2.0\\right) - \\frac{1000.0}{s}}$"
          },
          "metadata": {},
          "execution_count": 82
        }
      ]
    },
    {
      "cell_type": "code",
      "source": [
        "V2_s = H2_s * Vi_s\n",
        "V2_s"
      ],
      "metadata": {
        "id": "14EYLRnOt9ot",
        "outputId": "a6c4ea91-3b3a-4690-a84e-7d35468a75c9",
        "colab": {
          "base_uri": "https://localhost:8080/",
          "height": 62
        }
      },
      "execution_count": null,
      "outputs": [
        {
          "output_type": "execute_result",
          "data": {
            "text/plain": [
              "          ⎛                1000.0⎞       \n",
              "       10⋅⎜0.001⋅s + 2.0 + ──────⎟       \n",
              "          ⎝                  s   ⎠       \n",
              "─────────────────────────────────────────\n",
              "  ⎛⎛    1000.0⎞                   1000.0⎞\n",
              "s⋅⎜⎜1 + ──────⎟⋅(0.001⋅s + 2.0) - ──────⎟\n",
              "  ⎝⎝      s   ⎠                     s   ⎠"
            ],
            "text/latex": "$\\displaystyle \\frac{10 \\left(0.001 s + 2.0 + \\frac{1000.0}{s}\\right)}{s \\left(\\left(1 + \\frac{1000.0}{s}\\right) \\left(0.001 s + 2.0\\right) - \\frac{1000.0}{s}\\right)}$"
          },
          "metadata": {},
          "execution_count": 83
        }
      ]
    },
    {
      "cell_type": "code",
      "source": [
        "V_2 = sym.inverse_laplace_transform(V2_s, s, t) #trasformada inversa\n",
        "V_2"
      ],
      "metadata": {
        "id": "46cTbQYBuKTq",
        "outputId": "10dbf20b-31f9-4aaa-bb71-b1a71c27de98",
        "colab": {
          "base_uri": "https://localhost:8080/",
          "height": 39
        }
      },
      "execution_count": null,
      "outputs": [
        {
          "output_type": "execute_result",
          "data": {
            "text/plain": [
              "   ⎛                     -1500.0⋅t                                             ↪\n",
              "10⋅⎝- 0.894427190999917⋅ℯ         ⋅sinh(1118.03398874989⋅t) + 4.44089209850062 ↪\n",
              "\n",
              "↪       -1500.0⋅t                         ⎞                 \n",
              "↪ e-16⋅ℯ         ⋅cosh(1118.03398874989⋅t)⎠⋅θ(t) + 10.0⋅θ(t)"
            ],
            "text/latex": "$\\displaystyle 10 \\left(- 0.894427190999917 e^{- 1500.0 t} \\sinh{\\left(1118.03398874989 t \\right)} + 4.44089209850062 \\cdot 10^{-16} e^{- 1500.0 t} \\cosh{\\left(1118.03398874989 t \\right)}\\right) \\theta\\left(t\\right) + 10.0 \\theta\\left(t\\right)$"
          },
          "metadata": {},
          "execution_count": 84
        }
      ]
    },
    {
      "cell_type": "code",
      "source": [
        "sym.plot(V_2, (t, 0, 0.01), grid=True, xlabel='Tiempo (s)', ylabel='V(t)')"
      ],
      "metadata": {
        "id": "rpmdtqQNuXMm",
        "outputId": "c29da014-bfdc-4611-9cdf-e580dd24e5fb",
        "colab": {
          "base_uri": "https://localhost:8080/",
          "height": 504
        }
      },
      "execution_count": null,
      "outputs": [
        {
          "output_type": "display_data",
          "data": {
            "text/plain": [
              "<Figure size 640x480 with 1 Axes>"
            ],
            "image/png": "[encoded data removed]"
          },
          "metadata": {}
        },
        {
          "output_type": "execute_result",
          "data": {
            "text/plain": [
              "<sympy.plotting.backends.matplotlibbackend.matplotlib.MatplotlibBackend at 0x7a4ee9595310>"
            ]
          },
          "metadata": {},
          "execution_count": 85
        }
      ]
    },
    {
      "cell_type": "code",
      "source": [
        "import sympy as sp\n",
        "\n",
        "# Definimos la variable\n",
        "x = sp.symbols('x')\n",
        "\n",
        "# Pedimos el valor de k al usuario\n",
        "k = float(input(\"Ingrese el valor de k: \"))\n",
        "\n",
        "# Definimos la ecuación\n",
        "ecuacion = x*(x+1) + k*(x+2)*(x+3)\n",
        "\n",
        "# Resolvemos la ecuación\n",
        "raices = sp.solve(ecuacion, x)\n",
        "\n",
        "# Mostramos resultados\n",
        "print(\"Las raíces de la ecuación son:\")\n",
        "for r in raices:\n",
        "    print(r.evalf())\n",
        "\n",
        "\n"
      ],
      "metadata": {
        "colab": {
          "base_uri": "https://localhost:8080/"
        },
        "id": "IHv5S8fflboi",
        "outputId": "641e6c21-36ac-4d6a-c4e0-3b12312e3094"
      },
      "execution_count": null,
      "outputs": [
        {
          "output_type": "stream",
          "name": "stdout",
          "text": [
            "Ingrese el valor de k: 1000000\n",
            "Las raíces de la ecuación son:\n",
            "-2.99999399999400\n",
            "-2.00000200001000\n"
          ]
        }
      ]
    }
  ],
  "metadata": {
    "colab": {
      "name": "inverse.ipynb",
      "provenance": [],
      "include_colab_link": true
    },
    "kernelspec": {
      "display_name": "Python 3",
      "language": "python",
      "name": "python3"
    },
    "language_info": {
      "codemirror_mode": {
        "name": "ipython",
        "version": 3
      },
      "file_extension": ".py",
      "mimetype": "text/x-python",
      "name": "python",
      "nbconvert_exporter": "python",
      "pygments_lexer": "ipython3",
      "version": "3.7.1"
    }
  },
  "nbformat": 4,
  "nbformat_minor": 0
}