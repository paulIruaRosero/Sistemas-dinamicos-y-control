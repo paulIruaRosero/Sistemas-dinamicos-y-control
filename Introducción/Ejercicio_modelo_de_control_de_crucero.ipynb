{
  "nbformat": 4,
  "nbformat_minor": 0,
  "metadata": {
    "colab": {
      "provenance": [],
      "authorship_tag": "ABX9TyNAklylANM0RSjfSLFYC1kS",
      "include_colab_link": true
    },
    "kernelspec": {
      "name": "python3",
      "display_name": "Python 3"
    },
    "language_info": {
      "name": "python"
    }
  },
  "cells": [
    {
      "cell_type": "markdown",
      "metadata": {
        "id": "view-in-github",
        "colab_type": "text"
      },
      "source": [
        "<a href=\"https://colab.research.google.com/github/paulIruaRosero/Sistemas-dinamicos-y-control/blob/main/Introducci%C3%B3n/Ejercicio_modelo_de_control_de_crucero.ipynb\" target=\"_parent\"><img src=\"https://colab.research.google.com/assets/colab-badge.svg\" alt=\"Open In Colab\"/></a>"
      ]
    },
    {
      "cell_type": "markdown",
      "source": [
        "# vamos a insertar la ecuación diferencial del sistema modelo de control de crucero"
      ],
      "metadata": {
        "id": "85lmMsoab9qV"
      }
    },
    {
      "cell_type": "code",
      "source": [
        "import sympy as sp\n",
        "import sympy as sym\n",
        "sp.init_printing()\n",
        "\n",
        "# Parámetros\n",
        "m = 1000\n",
        "b = 50\n",
        "\n",
        "# Variables simbólicas\n",
        "t, s = sp.symbols('t s', real=True, positive=True)\n",
        "u = sp.Function('u')(t)\n",
        "v = sp.Function('v')(t)\n",
        "\n",
        "# EDO\n",
        "ode = sp.Eq(sp.diff(v, t) + b*v/m, u/m)\n",
        "print(\"Ecuación diferencial original:\")\n",
        "ode"
      ],
      "metadata": {
        "colab": {
          "base_uri": "https://localhost:8080/",
          "height": 70
        },
        "id": "yKVbdOLoY_Cl",
        "outputId": "a75c91fe-840f-49fe-d750-b7fee5d044b8"
      },
      "execution_count": 54,
      "outputs": [
        {
          "output_type": "stream",
          "name": "stdout",
          "text": [
            "Ecuación diferencial original:\n"
          ]
        },
        {
          "output_type": "execute_result",
          "data": {
            "text/plain": [
              "v(t)   d          u(t)\n",
              "──── + ──(v(t)) = ────\n",
              " 20    dt         1000"
            ],
            "text/latex": "$\\displaystyle \\frac{v{\\left(t \\right)}}{20} + \\frac{d}{d t} v{\\left(t \\right)} = \\frac{u{\\left(t \\right)}}{1000}$"
          },
          "metadata": {},
          "execution_count": 54
        }
      ]
    },
    {
      "cell_type": "markdown",
      "source": [
        "# vamos a calcular la transformada de laplace del sistema"
      ],
      "metadata": {
        "id": "LCmdEpUNcKfT"
      }
    },
    {
      "cell_type": "code",
      "source": [
        "lhs=sp.laplace_transform(sp.diff(v, t) + b*v/m, t, s, noconds=True)\n",
        "rhs=sp.laplace_transform(u/m, t, s, noconds=True)\n",
        "laplace_eq = sp.Eq(lhs, rhs)\n",
        "print(\"Ecuación diferencial en el dominio de Laplace:\")\n",
        "laplace_eq"
      ],
      "metadata": {
        "colab": {
          "base_uri": "https://localhost:8080/",
          "height": 70
        },
        "id": "Jm3plLyrZT4k",
        "outputId": "f83dbd4d-cc4b-49db-b7e9-2145def4db08"
      },
      "execution_count": 55,
      "outputs": [
        {
          "output_type": "stream",
          "name": "stdout",
          "text": [
            "Ecuación diferencial en el dominio de Laplace:\n"
          ]
        },
        {
          "output_type": "execute_result",
          "data": {
            "text/plain": [
              "                                 LaplaceTransform(v(t), t, s)          Laplace ↪\n",
              "s⋅LaplaceTransform(v(t), t, s) + ──────────────────────────── - v(0) = ─────── ↪\n",
              "                                              20                               ↪\n",
              "\n",
              "↪ Transform(u(t), t, s)\n",
              "↪ ─────────────────────\n",
              "↪      1000            "
            ],
            "text/latex": "$\\displaystyle s \\mathcal{L}_{t}\\left[v{\\left(t \\right)}\\right]\\left(s\\right) + \\frac{\\mathcal{L}_{t}\\left[v{\\left(t \\right)}\\right]\\left(s\\right)}{20} - v{\\left(0 \\right)} = \\frac{\\mathcal{L}_{t}\\left[u{\\left(t \\right)}\\right]\\left(s\\right)}{1000}$"
          },
          "metadata": {},
          "execution_count": 55
        }
      ]
    },
    {
      "cell_type": "markdown",
      "source": [
        "# calculamos la función de transferencia"
      ],
      "metadata": {
        "id": "6cNWWrnWcQvM"
      }
    },
    {
      "cell_type": "code",
      "metadata": {
        "colab": {
          "base_uri": "https://localhost:8080/",
          "height": 70
        },
        "id": "6d869aa2",
        "outputId": "e43cc463-753e-4f24-9116-d5a1fdd1fdde"
      },
      "source": [
        "# Definir símbolos para las transformadas de Laplace y la condición inicial\n",
        "V_s_sym = sp.Symbol('V_s')\n",
        "U_s_sym = sp.Symbol('U_s')\n",
        "v0 = sp.Symbol('v(0)')\n",
        "\n",
        "# Construir la ecuación equivalente en términos de los nuevos símbolos\n",
        "# Based on: s*LaplaceTransform(v(t), t, s) + LaplaceTransform(v(t), t, s)/20 - v(0) = LaplaceTransform(u(t), t, s)/1000\n",
        "equivalent_eq = sp.Eq(s * V_s_sym + V_s_sym / (m/b) - v0, U_s_sym / m)\n",
        "\n",
        "# Resolver para V_s_sym\n",
        "V_s_expr = sp.solve(equivalent_eq, V_s_sym)[0]\n",
        "\n",
        "# Asumir condiciones iniciales cero (v(0) = 0) para la función de transferencia\n",
        "V_s_zero_ic = V_s_expr.subs(v0, 0)\n",
        "\n",
        "# La función de transferencia es G(s) = V(s) / U(s)\n",
        "transfer_function = sp.simplify(V_s_zero_ic / U_s_sym)\n",
        "\n",
        "print(\"Función de transferencia G(s) = V(s) / U(s):\")\n",
        "transfer_function"
      ],
      "execution_count": 56,
      "outputs": [
        {
          "output_type": "stream",
          "name": "stdout",
          "text": [
            "Función de transferencia G(s) = V(s) / U(s):\n"
          ]
        },
        {
          "output_type": "execute_result",
          "data": {
            "text/plain": [
              "    0.02    \n",
              "────────────\n",
              "20.0⋅s + 1.0"
            ],
            "text/latex": "$\\displaystyle \\frac{0.02}{20.0 s + 1.0}$"
          },
          "metadata": {},
          "execution_count": 56
        }
      ]
    },
    {
      "cell_type": "markdown",
      "source": [
        "# vamos a calcular la respuesta al escalón de magnitud 500"
      ],
      "metadata": {
        "id": "wbuZkr1mcXdl"
      }
    },
    {
      "cell_type": "code",
      "source": [
        "U = 500/s\n",
        "V1 = transfer_function*U\n",
        "V1"
      ],
      "metadata": {
        "colab": {
          "base_uri": "https://localhost:8080/",
          "height": 55
        },
        "id": "R9iUTEmAcevF",
        "outputId": "68716de9-575f-4581-c97f-290a5cb6324c"
      },
      "execution_count": 57,
      "outputs": [
        {
          "output_type": "execute_result",
          "data": {
            "text/plain": [
              "      10.0      \n",
              "────────────────\n",
              "s⋅(20.0⋅s + 1.0)"
            ],
            "text/latex": "$\\displaystyle \\frac{10.0}{s \\left(20.0 s + 1.0\\right)}$"
          },
          "metadata": {},
          "execution_count": 57
        }
      ]
    },
    {
      "cell_type": "code",
      "source": [
        "V = sym.inverse_laplace_transform(V1, s, t) #trasformada inversa\n",
        "V"
      ],
      "metadata": {
        "colab": {
          "base_uri": "https://localhost:8080/",
          "height": 39
        },
        "id": "C1_uPSErd91c",
        "outputId": "57e9dfe4-4411-4b97-dbc3-8b65e9285b07"
      },
      "execution_count": 58,
      "outputs": [
        {
          "output_type": "execute_result",
          "data": {
            "text/plain": [
              "             -0.05⋅t\n",
              "10.0 - 10.0⋅ℯ       "
            ],
            "text/latex": "$\\displaystyle 10.0 - 10.0 e^{- 0.05 t}$"
          },
          "metadata": {},
          "execution_count": 58
        }
      ]
    },
    {
      "cell_type": "code",
      "source": [
        "sym.plot(V, (t, 0, 100), title='Gráfica de f(t)', ylabel='f(t)', xlabel='t', line_color='blue', grid=True)"
      ],
      "metadata": {
        "colab": {
          "base_uri": "https://localhost:8080/",
          "height": 502
        },
        "id": "9oBM3Ct4ekUj",
        "outputId": "f401dca3-771a-4edb-a02f-60b1464bd35a"
      },
      "execution_count": 59,
      "outputs": [
        {
          "output_type": "display_data",
          "data": {
            "text/plain": [
              "<Figure size 640x480 with 1 Axes>"
            ],
            "image/png": "[encoded data removed]"
          },
          "metadata": {}
        },
        {
          "output_type": "execute_result",
          "data": {
            "text/plain": [
              "<sympy.plotting.backends.matplotlibbackend.matplotlib.MatplotlibBackend at 0x7d1ffa86dcd0>"
            ]
          },
          "metadata": {},
          "execution_count": 59
        }
      ]
    }
  ]
}